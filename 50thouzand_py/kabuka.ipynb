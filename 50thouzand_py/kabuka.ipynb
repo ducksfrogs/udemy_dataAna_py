{
 "cells": [
  {
   "cell_type": "code",
   "execution_count": 1,
   "metadata": {},
   "outputs": [],
   "source": [
    "import numpy as np\n",
    "import pandas as pd\n",
    "import matplotlib.pyplot as plt\n",
    "%matplotlib inline"
   ]
  },
  {
   "cell_type": "code",
   "execution_count": 2,
   "metadata": {},
   "outputs": [],
   "source": [
    "import seaborn as sns"
   ]
  },
  {
   "cell_type": "code",
   "execution_count": 3,
   "metadata": {},
   "outputs": [],
   "source": [
    "from pandas import Series, DataFrame"
   ]
  },
  {
   "cell_type": "code",
   "execution_count": 4,
   "metadata": {},
   "outputs": [],
   "source": [
    "sns.set_style('whitegrid')"
   ]
  },
  {
   "cell_type": "code",
   "execution_count": 5,
   "metadata": {},
   "outputs": [],
   "source": [
    "from pandas_datareader import DataReader"
   ]
  },
  {
   "cell_type": "code",
   "execution_count": 6,
   "metadata": {},
   "outputs": [],
   "source": [
    "from datetime import datetime"
   ]
  },
  {
   "cell_type": "code",
   "execution_count": 7,
   "metadata": {},
   "outputs": [],
   "source": [
    "tech_list = ['AAPL', 'GOOG', 'MSFT', 'AMZN']"
   ]
  },
  {
   "cell_type": "code",
   "execution_count": 8,
   "metadata": {},
   "outputs": [],
   "source": [
    "end = datetime.now()\n",
    "start = datetime(end.year-1, end.month, end.day)"
   ]
  },
  {
   "cell_type": "code",
   "execution_count": 10,
   "metadata": {},
   "outputs": [],
   "source": [
    "for stock in tech_list:\n",
    "    globals()[stock] = DataReader(stock, 'yahoo', start, end)"
   ]
  },
  {
   "cell_type": "code",
   "execution_count": 12,
   "metadata": {},
   "outputs": [
    {
     "data": {
      "text/html": [
       "<div>\n",
       "<style scoped>\n",
       "    .dataframe tbody tr th:only-of-type {\n",
       "        vertical-align: middle;\n",
       "    }\n",
       "\n",
       "    .dataframe tbody tr th {\n",
       "        vertical-align: top;\n",
       "    }\n",
       "\n",
       "    .dataframe thead th {\n",
       "        text-align: right;\n",
       "    }\n",
       "</style>\n",
       "<table border=\"1\" class=\"dataframe\">\n",
       "  <thead>\n",
       "    <tr style=\"text-align: right;\">\n",
       "      <th></th>\n",
       "      <th>High</th>\n",
       "      <th>Low</th>\n",
       "      <th>Open</th>\n",
       "      <th>Close</th>\n",
       "      <th>Volume</th>\n",
       "      <th>Adj Close</th>\n",
       "    </tr>\n",
       "  </thead>\n",
       "  <tbody>\n",
       "    <tr>\n",
       "      <th>count</th>\n",
       "      <td>250.000000</td>\n",
       "      <td>250.000000</td>\n",
       "      <td>250.000000</td>\n",
       "      <td>250.000000</td>\n",
       "      <td>2.500000e+02</td>\n",
       "      <td>250.000000</td>\n",
       "    </tr>\n",
       "    <tr>\n",
       "      <th>mean</th>\n",
       "      <td>194.140440</td>\n",
       "      <td>190.083600</td>\n",
       "      <td>192.092360</td>\n",
       "      <td>192.116880</td>\n",
       "      <td>3.258498e+07</td>\n",
       "      <td>190.507695</td>\n",
       "    </tr>\n",
       "    <tr>\n",
       "      <th>std</th>\n",
       "      <td>21.207069</td>\n",
       "      <td>20.938713</td>\n",
       "      <td>21.062178</td>\n",
       "      <td>21.009097</td>\n",
       "      <td>1.394851e+07</td>\n",
       "      <td>20.814951</td>\n",
       "    </tr>\n",
       "    <tr>\n",
       "      <th>min</th>\n",
       "      <td>145.720001</td>\n",
       "      <td>142.000000</td>\n",
       "      <td>143.979996</td>\n",
       "      <td>142.190002</td>\n",
       "      <td>1.136200e+07</td>\n",
       "      <td>140.505798</td>\n",
       "    </tr>\n",
       "    <tr>\n",
       "      <th>25%</th>\n",
       "      <td>175.902496</td>\n",
       "      <td>173.362499</td>\n",
       "      <td>174.737499</td>\n",
       "      <td>174.757500</td>\n",
       "      <td>2.289640e+07</td>\n",
       "      <td>173.279305</td>\n",
       "    </tr>\n",
       "    <tr>\n",
       "      <th>50%</th>\n",
       "      <td>198.750000</td>\n",
       "      <td>193.805000</td>\n",
       "      <td>196.364998</td>\n",
       "      <td>196.345001</td>\n",
       "      <td>2.942395e+07</td>\n",
       "      <td>195.165611</td>\n",
       "    </tr>\n",
       "    <tr>\n",
       "      <th>75%</th>\n",
       "      <td>209.089996</td>\n",
       "      <td>205.104996</td>\n",
       "      <td>207.449997</td>\n",
       "      <td>207.479996</td>\n",
       "      <td>3.897412e+07</td>\n",
       "      <td>206.476418</td>\n",
       "    </tr>\n",
       "    <tr>\n",
       "      <th>max</th>\n",
       "      <td>233.470001</td>\n",
       "      <td>229.779999</td>\n",
       "      <td>230.779999</td>\n",
       "      <td>232.070007</td>\n",
       "      <td>9.624670e+07</td>\n",
       "      <td>228.523819</td>\n",
       "    </tr>\n",
       "  </tbody>\n",
       "</table>\n",
       "</div>"
      ],
      "text/plain": [
       "             High         Low        Open       Close        Volume  \\\n",
       "count  250.000000  250.000000  250.000000  250.000000  2.500000e+02   \n",
       "mean   194.140440  190.083600  192.092360  192.116880  3.258498e+07   \n",
       "std     21.207069   20.938713   21.062178   21.009097  1.394851e+07   \n",
       "min    145.720001  142.000000  143.979996  142.190002  1.136200e+07   \n",
       "25%    175.902496  173.362499  174.737499  174.757500  2.289640e+07   \n",
       "50%    198.750000  193.805000  196.364998  196.345001  2.942395e+07   \n",
       "75%    209.089996  205.104996  207.449997  207.479996  3.897412e+07   \n",
       "max    233.470001  229.779999  230.779999  232.070007  9.624670e+07   \n",
       "\n",
       "        Adj Close  \n",
       "count  250.000000  \n",
       "mean   190.507695  \n",
       "std     20.814951  \n",
       "min    140.505798  \n",
       "25%    173.279305  \n",
       "50%    195.165611  \n",
       "75%    206.476418  \n",
       "max    228.523819  "
      ]
     },
     "execution_count": 12,
     "metadata": {},
     "output_type": "execute_result"
    }
   ],
   "source": [
    "AAPL.describe()"
   ]
  },
  {
   "cell_type": "code",
   "execution_count": null,
   "metadata": {},
   "outputs": [],
   "source": []
  }
 ],
 "metadata": {
  "kernelspec": {
   "display_name": "Python 3",
   "language": "python",
   "name": "python3"
  },
  "language_info": {
   "codemirror_mode": {
    "name": "ipython",
    "version": 3
   },
   "file_extension": ".py",
   "mimetype": "text/x-python",
   "name": "python",
   "nbconvert_exporter": "python",
   "pygments_lexer": "ipython3",
   "version": "3.7.3"
  }
 },
 "nbformat": 4,
 "nbformat_minor": 2
}
