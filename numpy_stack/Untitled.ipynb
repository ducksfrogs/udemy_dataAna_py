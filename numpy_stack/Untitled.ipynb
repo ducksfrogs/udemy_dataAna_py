{
 "cells": [
  {
   "cell_type": "code",
   "execution_count": 1,
   "metadata": {},
   "outputs": [
    {
     "name": "stderr",
     "output_type": "stream",
     "text": [
      "/home/ma/.bin/anaconda3/lib/python3.7/importlib/_bootstrap.py:219: RuntimeWarning: numpy.ufunc size changed, may indicate binary incompatibility. Expected 192 from C header, got 216 from PyObject\n",
      "  return f(*args, **kwds)\n",
      "/home/ma/.bin/anaconda3/lib/python3.7/importlib/_bootstrap.py:219: RuntimeWarning: numpy.ufunc size changed, may indicate binary incompatibility. Expected 192 from C header, got 216 from PyObject\n",
      "  return f(*args, **kwds)\n"
     ]
    }
   ],
   "source": [
    "from scipy.stats import norm"
   ]
  },
  {
   "cell_type": "code",
   "execution_count": 2,
   "metadata": {},
   "outputs": [
    {
     "data": {
      "text/plain": [
       "0.3989422804014327"
      ]
     },
     "execution_count": 2,
     "metadata": {},
     "output_type": "execute_result"
    }
   ],
   "source": [
    "norm.pdf(0)"
   ]
  },
  {
   "cell_type": "code",
   "execution_count": 4,
   "metadata": {},
   "outputs": [
    {
     "data": {
      "text/plain": [
       "0.03520653267642995"
      ]
     },
     "execution_count": 4,
     "metadata": {},
     "output_type": "execute_result"
    }
   ],
   "source": [
    "norm.pdf(0, loc=5, scale=10)"
   ]
  },
  {
   "cell_type": "code",
   "execution_count": 5,
   "metadata": {},
   "outputs": [],
   "source": [
    "import numpy as np"
   ]
  },
  {
   "cell_type": "code",
   "execution_count": 6,
   "metadata": {},
   "outputs": [],
   "source": [
    "r = np.random.randn(10)"
   ]
  },
  {
   "cell_type": "code",
   "execution_count": 7,
   "metadata": {},
   "outputs": [
    {
     "data": {
      "text/plain": [
       "array([0.2892529 , 0.19467441, 0.21603393, 0.39549413, 0.39028804,\n",
       "       0.01856628, 0.39334784, 0.36005305, 0.39862215, 0.1941264 ])"
      ]
     },
     "execution_count": 7,
     "metadata": {},
     "output_type": "execute_result"
    }
   ],
   "source": [
    "norm.pdf(r)"
   ]
  },
  {
   "cell_type": "code",
   "execution_count": 8,
   "metadata": {},
   "outputs": [
    {
     "data": {
      "text/plain": [
       "array([ 0.80189197, -1.19790505, -1.10759313,  0.13176334, -0.20943597,\n",
       "       -2.47688095, -0.16806217,  0.45291358,  0.04006918, -1.200256  ])"
      ]
     },
     "execution_count": 8,
     "metadata": {},
     "output_type": "execute_result"
    }
   ],
   "source": [
    "r"
   ]
  },
  {
   "cell_type": "code",
   "execution_count": 9,
   "metadata": {},
   "outputs": [
    {
     "data": {
      "text/plain": [
       "array([-0.23737905, -2.15868398, -2.00977529, -0.59345705, -0.87453967,\n",
       "       -5.01663249, -0.83640069, -0.39349526, -0.66168531, -2.16264954])"
      ]
     },
     "execution_count": 9,
     "metadata": {},
     "output_type": "execute_result"
    }
   ],
   "source": [
    "norm.logcdf(r)"
   ]
  },
  {
   "cell_type": "code",
   "execution_count": 10,
   "metadata": {},
   "outputs": [
    {
     "data": {
      "text/plain": [
       "array([0.78869227, 0.11547699, 0.13401879, 0.55241426, 0.41705396,\n",
       "       0.00662681, 0.43326718, 0.67469451, 0.51598101, 0.11501997])"
      ]
     },
     "execution_count": 10,
     "metadata": {},
     "output_type": "execute_result"
    }
   ],
   "source": [
    "norm.cdf(r)"
   ]
  },
  {
   "cell_type": "code",
   "execution_count": 11,
   "metadata": {},
   "outputs": [
    {
     "data": {
      "text/plain": [
       "array([-0.23737905, -2.15868398, -2.00977529, -0.59345705, -0.87453967,\n",
       "       -5.01663249, -0.83640069, -0.39349526, -0.66168531, -2.16264954])"
      ]
     },
     "execution_count": 11,
     "metadata": {},
     "output_type": "execute_result"
    }
   ],
   "source": [
    "norm.logcdf(r)"
   ]
  },
  {
   "cell_type": "code",
   "execution_count": 12,
   "metadata": {},
   "outputs": [],
   "source": [
    "r = np.random.randn(10000)"
   ]
  },
  {
   "cell_type": "code",
   "execution_count": 13,
   "metadata": {},
   "outputs": [
    {
     "data": {
      "text/plain": [
       "(array([  13,  128,  666, 1917, 3038, 2626, 1249,  314,   44,    5]),\n",
       " array([-3.76326973, -2.97069975, -2.17812976, -1.38555978, -0.5929898 ,\n",
       "         0.19958018,  0.99215016,  1.78472014,  2.57729013,  3.36986011,\n",
       "         4.16243009]))"
      ]
     },
     "execution_count": 13,
     "metadata": {},
     "output_type": "execute_result"
    }
   ],
   "source": [
    "np.histogram(r)"
   ]
  },
  {
   "cell_type": "code",
   "execution_count": 14,
   "metadata": {},
   "outputs": [],
   "source": [
    "import matplotlib.pyplot as plt\n",
    "%matplotlib inline"
   ]
  },
  {
   "cell_type": "code",
   "execution_count": 16,
   "metadata": {},
   "outputs": [
    {
     "data": {
      "text/plain": [
       "(array([  1.,   1.,   0.,   0.,   1.,   2.,   2.,   1.,   2.,   3.,   5.,\n",
       "          3.,   6.,   7.,   8.,  11.,  18.,  25.,  25.,  20.,  25.,  30.,\n",
       "         40.,  51.,  64.,  63.,  89.,  96., 101., 107., 140., 140., 160.,\n",
       "        168., 189., 184., 205., 234., 239., 258., 266., 291., 296., 290.,\n",
       "        302., 308., 309., 308., 341., 327., 302., 303., 258., 294., 272.,\n",
       "        272., 251., 233., 212., 229., 206., 162., 172., 119., 129.,  99.,\n",
       "        109., 103.,  78.,  72.,  64.,  49.,  41.,  38.,  31.,  24.,  23.,\n",
       "         20.,   6.,  18.,   7.,   8.,   6.,   6.,   5.,   5.,   2.,   1.,\n",
       "          2.,   2.,   0.,   0.,   1.,   1.,   0.,   1.,   0.,   0.,   1.,\n",
       "          1.]),\n",
       " array([-3.76326973, -3.68401273, -3.60475573, -3.52549873, -3.44624173,\n",
       "        -3.36698474, -3.28772774, -3.20847074, -3.12921374, -3.04995674,\n",
       "        -2.97069975, -2.89144275, -2.81218575, -2.73292875, -2.65367175,\n",
       "        -2.57441475, -2.49515776, -2.41590076, -2.33664376, -2.25738676,\n",
       "        -2.17812976, -2.09887277, -2.01961577, -1.94035877, -1.86110177,\n",
       "        -1.78184477, -1.70258777, -1.62333078, -1.54407378, -1.46481678,\n",
       "        -1.38555978, -1.30630278, -1.22704579, -1.14778879, -1.06853179,\n",
       "        -0.98927479, -0.91001779, -0.83076079, -0.7515038 , -0.6722468 ,\n",
       "        -0.5929898 , -0.5137328 , -0.4344758 , -0.35521881, -0.27596181,\n",
       "        -0.19670481, -0.11744781, -0.03819081,  0.04106619,  0.12032318,\n",
       "         0.19958018,  0.27883718,  0.35809418,  0.43735118,  0.51660817,\n",
       "         0.59586517,  0.67512217,  0.75437917,  0.83363617,  0.91289316,\n",
       "         0.99215016,  1.07140716,  1.15066416,  1.22992116,  1.30917816,\n",
       "         1.38843515,  1.46769215,  1.54694915,  1.62620615,  1.70546315,\n",
       "         1.78472014,  1.86397714,  1.94323414,  2.02249114,  2.10174814,\n",
       "         2.18100514,  2.26026213,  2.33951913,  2.41877613,  2.49803313,\n",
       "         2.57729013,  2.65654712,  2.73580412,  2.81506112,  2.89431812,\n",
       "         2.97357512,  3.05283212,  3.13208911,  3.21134611,  3.29060311,\n",
       "         3.36986011,  3.44911711,  3.5283741 ,  3.6076311 ,  3.6868881 ,\n",
       "         3.7661451 ,  3.8454021 ,  3.9246591 ,  4.00391609,  4.08317309,\n",
       "         4.16243009]),\n",
       " <a list of 100 Patch objects>)"
      ]
     },
     "execution_count": 16,
     "metadata": {},
     "output_type": "execute_result"
    },
    {
     "data": {
      "image/png": "[encoded data removed]",
      "text/plain": [
       "<Figure size 432x288 with 1 Axes>"
      ]
     },
     "metadata": {
      "needs_background": "light"
     },
     "output_type": "display_data"
    }
   ],
   "source": [
    "plt.hist(r, bins=100)"
   ]
  },
  {
   "cell_type": "code",
   "execution_count": 17,
   "metadata": {},
   "outputs": [],
   "source": [
    "r = 10*np.random.randn(10000) + 5"
   ]
  },
  {
   "cell_type": "code",
   "execution_count": 18,
   "metadata": {},
   "outputs": [
    {
     "data": {
      "text/plain": [
       "(array([  1.,   0.,   0.,   0.,   0.,   1.,   1.,   2.,   2.,   4.,   4.,\n",
       "          5.,   3.,   6.,   9.,  15.,  15.,  18.,  25.,  17.,  41.,  26.,\n",
       "         48.,  47.,  50.,  67.,  88., 100.,  83.,  92., 127., 131., 151.,\n",
       "        169., 192., 205., 215., 235., 256., 206., 257., 275., 266., 333.,\n",
       "        332., 336., 336., 266., 289., 310., 310., 299., 287., 278., 276.,\n",
       "        279., 271., 245., 232., 190., 170., 175., 160., 144., 122., 126.,\n",
       "         94.,  97.,  88.,  62.,  59.,  54.,  46.,  47.,  37.,  39.,  34.,\n",
       "         17.,  20.,  16.,  14.,  11.,  10.,   7.,   3.,   8.,   6.,   2.,\n",
       "          3.,   0.,   1.,   2.,   1.,   0.,   0.,   0.,   0.,   0.,   0.,\n",
       "          1.]), array([-32.51191202, -31.72866683, -30.94542163, -30.16217644,\n",
       "        -29.37893125, -28.59568605, -27.81244086, -27.02919566,\n",
       "        -26.24595047, -25.46270527, -24.67946008, -23.89621488,\n",
       "        -23.11296969, -22.32972449, -21.5464793 , -20.76323411,\n",
       "        -19.97998891, -19.19674372, -18.41349852, -17.63025333,\n",
       "        -16.84700813, -16.06376294, -15.28051774, -14.49727255,\n",
       "        -13.71402736, -12.93078216, -12.14753697, -11.36429177,\n",
       "        -10.58104658,  -9.79780138,  -9.01455619,  -8.23131099,\n",
       "         -7.4480658 ,  -6.6648206 ,  -5.88157541,  -5.09833022,\n",
       "         -4.31508502,  -3.53183983,  -2.74859463,  -1.96534944,\n",
       "         -1.18210424,  -0.39885905,   0.38438615,   1.16763134,\n",
       "          1.95087654,   2.73412173,   3.51736692,   4.30061212,\n",
       "          5.08385731,   5.86710251,   6.6503477 ,   7.4335929 ,\n",
       "          8.21683809,   9.00008329,   9.78332848,  10.56657367,\n",
       "         11.34981887,  12.13306406,  12.91630926,  13.69955445,\n",
       "         14.48279965,  15.26604484,  16.04929004,  16.83253523,\n",
       "         17.61578043,  18.39902562,  19.18227081,  19.96551601,\n",
       "         20.7487612 ,  21.5320064 ,  22.31525159,  23.09849679,\n",
       "         23.88174198,  24.66498718,  25.44823237,  26.23147756,\n",
       "         27.01472276,  27.79796795,  28.58121315,  29.36445834,\n",
       "         30.14770354,  30.93094873,  31.71419393,  32.49743912,\n",
       "         33.28068432,  34.06392951,  34.8471747 ,  35.6304199 ,\n",
       "         36.41366509,  37.19691029,  37.98015548,  38.76340068,\n",
       "         39.54664587,  40.32989107,  41.11313626,  41.89638146,\n",
       "         42.67962665,  43.46287184,  44.24611704,  45.02936223,\n",
       "         45.81260743]), <a list of 100 Patch objects>)"
      ]
     },
     "execution_count": 18,
     "metadata": {},
     "output_type": "execute_result"
    },
    {
     "data": {
      "image/png": "[encoded data removed]",
      "text/plain": [
       "<Figure size 432x288 with 1 Axes>"
      ]
     },
     "metadata": {
      "needs_background": "light"
     },
     "output_type": "display_data"
    }
   ],
   "source": [
    "plt.hist(r, bins=100)"
   ]
  },
  {
   "cell_type": "code",
   "execution_count": 20,
   "metadata": {},
   "outputs": [
    {
     "data": {
      "text/plain": [
       "5.038306561101491"
      ]
     },
     "execution_count": 20,
     "metadata": {},
     "output_type": "execute_result"
    }
   ],
   "source": [
    "np.mean(r)"
   ]
  },
  {
   "cell_type": "code",
   "execution_count": 22,
   "metadata": {},
   "outputs": [
    {
     "data": {
      "text/plain": [
       "array([  9.12247778,   8.8064022 ,   4.19808563,   2.64600079,\n",
       "       -12.12109629])"
      ]
     },
     "execution_count": 22,
     "metadata": {},
     "output_type": "execute_result"
    }
   ],
   "source": [
    "r[1:6]"
   ]
  },
  {
   "cell_type": "code",
   "execution_count": 23,
   "metadata": {},
   "outputs": [],
   "source": [
    "r = np.random.randn(10000)"
   ]
  },
  {
   "cell_type": "code",
   "execution_count": 24,
   "metadata": {},
   "outputs": [
    {
     "data": {
      "text/plain": [
       "0.00025873770089164446"
      ]
     },
     "execution_count": 24,
     "metadata": {},
     "output_type": "execute_result"
    }
   ],
   "source": [
    "np.mean(r)"
   ]
  },
  {
   "cell_type": "code",
   "execution_count": 25,
   "metadata": {},
   "outputs": [],
   "source": [
    "r = np.random.randn(10000, 2)"
   ]
  },
  {
   "cell_type": "code",
   "execution_count": 26,
   "metadata": {},
   "outputs": [
    {
     "data": {
      "text/plain": [
       "<matplotlib.collections.PathCollection at 0x7fcc423f3dd8>"
      ]
     },
     "execution_count": 26,
     "metadata": {},
     "output_type": "execute_result"
    },
    {
     "data": {
      "image/png": "[encoded data removed]",
      "text/plain": [
       "<Figure size 432x288 with 1 Axes>"
      ]
     },
     "metadata": {
      "needs_background": "light"
     },
     "output_type": "display_data"
    }
   ],
   "source": [
    "plt.scatter(r[:,0], r[:,1])"
   ]
  },
  {
   "cell_type": "code",
   "execution_count": 27,
   "metadata": {},
   "outputs": [
    {
     "data": {
      "text/plain": [
       "array([], shape=(0, 2), dtype=float64)"
      ]
     },
     "execution_count": 27,
     "metadata": {},
     "output_type": "execute_result"
    }
   ],
   "source": [
    "r[4:2]"
   ]
  },
  {
   "cell_type": "code",
   "execution_count": 29,
   "metadata": {},
   "outputs": [],
   "source": [
    "r[:,1] = 5*r[:,1] +2"
   ]
  },
  {
   "cell_type": "code",
   "execution_count": 30,
   "metadata": {},
   "outputs": [
    {
     "data": {
      "text/plain": [
       "<matplotlib.collections.PathCollection at 0x7fcc423615f8>"
      ]
     },
     "execution_count": 30,
     "metadata": {},
     "output_type": "execute_result"
    },
    {
     "data": {
      "image/png": "[encoded data removed]",
      "text/plain": [
       "<Figure size 432x288 with 1 Axes>"
      ]
     },
     "metadata": {
      "needs_background": "light"
     },
     "output_type": "display_data"
    }
   ],
   "source": [
    "plt.scatter(r[:,0], r[:,1])"
   ]
  },
  {
   "cell_type": "code",
   "execution_count": 31,
   "metadata": {},
   "outputs": [
    {
     "data": {
      "text/plain": [
       "<function matplotlib.pyplot.axis(*args, **kwargs)>"
      ]
     },
     "execution_count": 31,
     "metadata": {},
     "output_type": "execute_result"
    },
    {
     "data": {
      "image/png": "[encoded data removed]",
      "text/plain": [
       "<Figure size 432x288 with 1 Axes>"
      ]
     },
     "metadata": {
      "needs_background": "light"
     },
     "output_type": "display_data"
    }
   ],
   "source": [
    "plt.scatter(r[:,0], r[:,1])\n",
    "plt.axis\n"
   ]
  },
  {
   "cell_type": "code",
   "execution_count": 32,
   "metadata": {},
   "outputs": [],
   "source": [
    "cov = np.array([[1,0.8],[[0.8,3]]])"
   ]
  },
  {
   "cell_type": "code",
   "execution_count": 34,
   "metadata": {},
   "outputs": [],
   "source": [
    "from scipy.stats import multivariate_normal as mvn"
   ]
  },
  {
   "cell_type": "code",
   "execution_count": 35,
   "metadata": {},
   "outputs": [],
   "source": [
    "mu = np.array([0,2])"
   ]
  },
  {
   "cell_type": "code",
   "execution_count": 36,
   "metadata": {},
   "outputs": [
    {
     "ename": "ValueError",
     "evalue": "setting an array element with a sequence.",
     "output_type": "error",
     "traceback": [
      "\u001b[0;31m---------------------------------------------------------------------------\u001b[0m",
      "\u001b[0;31mValueError\u001b[0m                                Traceback (most recent call last)",
      "\u001b[0;32m<ipython-input-36-f222008daa10>\u001b[0m in \u001b[0;36m<module>\u001b[0;34m\u001b[0m\n\u001b[0;32m----> 1\u001b[0;31m \u001b[0mr\u001b[0m \u001b[0;34m=\u001b[0m \u001b[0mmvn\u001b[0m\u001b[0;34m.\u001b[0m\u001b[0mrvs\u001b[0m\u001b[0;34m(\u001b[0m\u001b[0mmean\u001b[0m\u001b[0;34m=\u001b[0m\u001b[0mmu\u001b[0m\u001b[0;34m,\u001b[0m \u001b[0mcov\u001b[0m\u001b[0;34m=\u001b[0m\u001b[0mcov\u001b[0m\u001b[0;34m,\u001b[0m \u001b[0msize\u001b[0m\u001b[0;34m=\u001b[0m\u001b[0;36m1000\u001b[0m\u001b[0;34m)\u001b[0m\u001b[0;34m\u001b[0m\u001b[0;34m\u001b[0m\u001b[0m\n\u001b[0m",
      "\u001b[0;32m~/.bin/anaconda3/lib/python3.7/site-packages/scipy/stats/_multivariate.py\u001b[0m in \u001b[0;36mrvs\u001b[0;34m(self, mean, cov, size, random_state)\u001b[0m\n\u001b[1;32m    655\u001b[0m \u001b[0;34m\u001b[0m\u001b[0m\n\u001b[1;32m    656\u001b[0m         \"\"\"\n\u001b[0;32m--> 657\u001b[0;31m         \u001b[0mdim\u001b[0m\u001b[0;34m,\u001b[0m \u001b[0mmean\u001b[0m\u001b[0;34m,\u001b[0m \u001b[0mcov\u001b[0m \u001b[0;34m=\u001b[0m \u001b[0mself\u001b[0m\u001b[0;34m.\u001b[0m\u001b[0m_process_parameters\u001b[0m\u001b[0;34m(\u001b[0m\u001b[0;32mNone\u001b[0m\u001b[0;34m,\u001b[0m \u001b[0mmean\u001b[0m\u001b[0;34m,\u001b[0m \u001b[0mcov\u001b[0m\u001b[0;34m)\u001b[0m\u001b[0;34m\u001b[0m\u001b[0;34m\u001b[0m\u001b[0m\n\u001b[0m\u001b[1;32m    658\u001b[0m \u001b[0;34m\u001b[0m\u001b[0m\n\u001b[1;32m    659\u001b[0m         \u001b[0mrandom_state\u001b[0m \u001b[0;34m=\u001b[0m \u001b[0mself\u001b[0m\u001b[0;34m.\u001b[0m\u001b[0m_get_random_state\u001b[0m\u001b[0;34m(\u001b[0m\u001b[0mrandom_state\u001b[0m\u001b[0;34m)\u001b[0m\u001b[0;34m\u001b[0m\u001b[0;34m\u001b[0m\u001b[0m\n",
      "\u001b[0;32m~/.bin/anaconda3/lib/python3.7/site-packages/scipy/stats/_multivariate.py\u001b[0m in \u001b[0;36m_process_parameters\u001b[0;34m(self, dim, mean, cov)\u001b[0m\n\u001b[1;32m    397\u001b[0m         \u001b[0;32mif\u001b[0m \u001b[0mcov\u001b[0m \u001b[0;32mis\u001b[0m \u001b[0;32mNone\u001b[0m\u001b[0;34m:\u001b[0m\u001b[0;34m\u001b[0m\u001b[0;34m\u001b[0m\u001b[0m\n\u001b[1;32m    398\u001b[0m             \u001b[0mcov\u001b[0m \u001b[0;34m=\u001b[0m \u001b[0;36m1.0\u001b[0m\u001b[0;34m\u001b[0m\u001b[0;34m\u001b[0m\u001b[0m\n\u001b[0;32m--> 399\u001b[0;31m         \u001b[0mcov\u001b[0m \u001b[0;34m=\u001b[0m \u001b[0mnp\u001b[0m\u001b[0;34m.\u001b[0m\u001b[0masarray\u001b[0m\u001b[0;34m(\u001b[0m\u001b[0mcov\u001b[0m\u001b[0;34m,\u001b[0m \u001b[0mdtype\u001b[0m\u001b[0;34m=\u001b[0m\u001b[0mfloat\u001b[0m\u001b[0;34m)\u001b[0m\u001b[0;34m\u001b[0m\u001b[0;34m\u001b[0m\u001b[0m\n\u001b[0m\u001b[1;32m    400\u001b[0m \u001b[0;34m\u001b[0m\u001b[0m\n\u001b[1;32m    401\u001b[0m         \u001b[0;32mif\u001b[0m \u001b[0mdim\u001b[0m \u001b[0;34m==\u001b[0m \u001b[0;36m1\u001b[0m\u001b[0;34m:\u001b[0m\u001b[0;34m\u001b[0m\u001b[0;34m\u001b[0m\u001b[0m\n",
      "\u001b[0;32m~/.bin/anaconda3/lib/python3.7/site-packages/numpy/core/numeric.py\u001b[0m in \u001b[0;36masarray\u001b[0;34m(a, dtype, order)\u001b[0m\n\u001b[1;32m    536\u001b[0m \u001b[0;34m\u001b[0m\u001b[0m\n\u001b[1;32m    537\u001b[0m     \"\"\"\n\u001b[0;32m--> 538\u001b[0;31m     \u001b[0;32mreturn\u001b[0m \u001b[0marray\u001b[0m\u001b[0;34m(\u001b[0m\u001b[0ma\u001b[0m\u001b[0;34m,\u001b[0m \u001b[0mdtype\u001b[0m\u001b[0;34m,\u001b[0m \u001b[0mcopy\u001b[0m\u001b[0;34m=\u001b[0m\u001b[0;32mFalse\u001b[0m\u001b[0;34m,\u001b[0m \u001b[0morder\u001b[0m\u001b[0;34m=\u001b[0m\u001b[0morder\u001b[0m\u001b[0;34m)\u001b[0m\u001b[0;34m\u001b[0m\u001b[0;34m\u001b[0m\u001b[0m\n\u001b[0m\u001b[1;32m    539\u001b[0m \u001b[0;34m\u001b[0m\u001b[0m\n\u001b[1;32m    540\u001b[0m \u001b[0;34m\u001b[0m\u001b[0m\n",
      "\u001b[0;31mValueError\u001b[0m: setting an array element with a sequence."
     ]
    }
   ],
   "source": [
    "r = mvn.rvs(mean=mu, cov=cov, size=1000)"
   ]
  },
  {
   "cell_type": "code",
   "execution_count": null,
   "metadata": {},
   "outputs": [],
   "source": []
  }
 ],
 "metadata": {
  "kernelspec": {
   "display_name": "Python 3",
   "language": "python",
   "name": "python3"
  },
  "language_info": {
   "codemirror_mode": {
    "name": "ipython",
    "version": 3
   },
   "file_extension": ".py",
   "mimetype": "text/x-python",
   "name": "python",
   "nbconvert_exporter": "python",
   "pygments_lexer": "ipython3",
   "version": "3.7.3"
  }
 },
 "nbformat": 4,
 "nbformat_minor": 2
}
