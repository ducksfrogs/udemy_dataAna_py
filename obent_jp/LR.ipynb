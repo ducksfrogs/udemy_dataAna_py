{
 "cells": [
  {
   "cell_type": "code",
   "execution_count": 54,
   "metadata": {},
   "outputs": [],
   "source": [
    "import pandas as pd\n",
    "import numpy as np\n",
    "from matplotlib import pyplot as plt\n",
    "%matplotlib inline\n",
    "from sklearn.linear_model import LinearRegression as LR"
   ]
  },
  {
   "cell_type": "code",
   "execution_count": 55,
   "metadata": {},
   "outputs": [],
   "source": [
    "train = pd.read_csv(\"obent/train.csv\")"
   ]
  },
  {
   "cell_type": "code",
   "execution_count": 56,
   "metadata": {},
   "outputs": [],
   "source": [
    "test= pd.read_csv(\"obent/test.csv\")\n",
    "sample = pd.read_csv(\"obent/sample.csv\",header=None)"
   ]
  },
  {
   "cell_type": "code",
   "execution_count": 57,
   "metadata": {},
   "outputs": [
    {
     "data": {
      "text/html": [
       "<div>\n",
       "<style scoped>\n",
       "    .dataframe tbody tr th:only-of-type {\n",
       "        vertical-align: middle;\n",
       "    }\n",
       "\n",
       "    .dataframe tbody tr th {\n",
       "        vertical-align: top;\n",
       "    }\n",
       "\n",
       "    .dataframe thead th {\n",
       "        text-align: right;\n",
       "    }\n",
       "</style>\n",
       "<table border=\"1\" class=\"dataframe\">\n",
       "  <thead>\n",
       "    <tr style=\"text-align: right;\">\n",
       "      <th></th>\n",
       "      <th>datetime</th>\n",
       "      <th>y</th>\n",
       "      <th>week</th>\n",
       "      <th>soldout</th>\n",
       "      <th>name</th>\n",
       "      <th>kcal</th>\n",
       "      <th>remarks</th>\n",
       "      <th>event</th>\n",
       "      <th>payday</th>\n",
       "      <th>weather</th>\n",
       "      <th>precipitation</th>\n",
       "      <th>temperature</th>\n",
       "    </tr>\n",
       "  </thead>\n",
       "  <tbody>\n",
       "    <tr>\n",
       "      <th>0</th>\n",
       "      <td>2013-11-18</td>\n",
       "      <td>90</td>\n",
       "      <td>月</td>\n",
       "      <td>0</td>\n",
       "      <td>厚切りイカフライ</td>\n",
       "      <td>NaN</td>\n",
       "      <td>NaN</td>\n",
       "      <td>NaN</td>\n",
       "      <td>NaN</td>\n",
       "      <td>快晴</td>\n",
       "      <td>--</td>\n",
       "      <td>19.8</td>\n",
       "    </tr>\n",
       "    <tr>\n",
       "      <th>1</th>\n",
       "      <td>2013-11-19</td>\n",
       "      <td>101</td>\n",
       "      <td>火</td>\n",
       "      <td>1</td>\n",
       "      <td>手作りヒレカツ</td>\n",
       "      <td>NaN</td>\n",
       "      <td>NaN</td>\n",
       "      <td>NaN</td>\n",
       "      <td>NaN</td>\n",
       "      <td>快晴</td>\n",
       "      <td>--</td>\n",
       "      <td>17.0</td>\n",
       "    </tr>\n",
       "    <tr>\n",
       "      <th>2</th>\n",
       "      <td>2013-11-20</td>\n",
       "      <td>118</td>\n",
       "      <td>水</td>\n",
       "      <td>0</td>\n",
       "      <td>白身魚唐揚げ野菜あん</td>\n",
       "      <td>NaN</td>\n",
       "      <td>NaN</td>\n",
       "      <td>NaN</td>\n",
       "      <td>NaN</td>\n",
       "      <td>快晴</td>\n",
       "      <td>--</td>\n",
       "      <td>15.5</td>\n",
       "    </tr>\n",
       "    <tr>\n",
       "      <th>3</th>\n",
       "      <td>2013-11-21</td>\n",
       "      <td>120</td>\n",
       "      <td>木</td>\n",
       "      <td>1</td>\n",
       "      <td>若鶏ピリ辛焼</td>\n",
       "      <td>NaN</td>\n",
       "      <td>NaN</td>\n",
       "      <td>NaN</td>\n",
       "      <td>NaN</td>\n",
       "      <td>快晴</td>\n",
       "      <td>--</td>\n",
       "      <td>15.2</td>\n",
       "    </tr>\n",
       "    <tr>\n",
       "      <th>4</th>\n",
       "      <td>2013-11-22</td>\n",
       "      <td>130</td>\n",
       "      <td>金</td>\n",
       "      <td>1</td>\n",
       "      <td>ビッグメンチカツ</td>\n",
       "      <td>NaN</td>\n",
       "      <td>NaN</td>\n",
       "      <td>NaN</td>\n",
       "      <td>NaN</td>\n",
       "      <td>快晴</td>\n",
       "      <td>--</td>\n",
       "      <td>16.1</td>\n",
       "    </tr>\n",
       "  </tbody>\n",
       "</table>\n",
       "</div>"
      ],
      "text/plain": [
       "     datetime    y week  soldout        name  kcal remarks event  payday  \\\n",
       "0  2013-11-18   90    月        0    厚切りイカフライ   NaN     NaN   NaN     NaN   \n",
       "1  2013-11-19  101    火        1     手作りヒレカツ   NaN     NaN   NaN     NaN   \n",
       "2  2013-11-20  118    水        0  白身魚唐揚げ野菜あん   NaN     NaN   NaN     NaN   \n",
       "3  2013-11-21  120    木        1      若鶏ピリ辛焼   NaN     NaN   NaN     NaN   \n",
       "4  2013-11-22  130    金        1    ビッグメンチカツ   NaN     NaN   NaN     NaN   \n",
       "\n",
       "  weather precipitation  temperature  \n",
       "0      快晴            --         19.8  \n",
       "1      快晴            --         17.0  \n",
       "2      快晴            --         15.5  \n",
       "3      快晴            --         15.2  \n",
       "4      快晴            --         16.1  "
      ]
     },
     "execution_count": 57,
     "metadata": {},
     "output_type": "execute_result"
    }
   ],
   "source": [
    "train.head()"
   ]
  },
  {
   "cell_type": "code",
   "execution_count": 58,
   "metadata": {},
   "outputs": [],
   "source": [
    "trainX=train[\"temperature\"]\n",
    "y = train[\"y\"]"
   ]
  },
  {
   "cell_type": "code",
   "execution_count": 59,
   "metadata": {
    "scrolled": true
   },
   "outputs": [
    {
     "data": {
      "text/plain": [
       "0      19.8\n",
       "1      17.0\n",
       "2      15.5\n",
       "3      15.2\n",
       "4      16.1\n",
       "5      14.6\n",
       "6      17.9\n",
       "7      14.7\n",
       "8      17.7\n",
       "9      12.1\n",
       "10     13.8\n",
       "11     13.9\n",
       "12     13.5\n",
       "13     13.8\n",
       "14     14.9\n",
       "15      9.1\n",
       "16      7.1\n",
       "17     11.0\n",
       "18     12.3\n",
       "19     13.9\n",
       "20     11.3\n",
       "21     10.8\n",
       "22      7.8\n",
       "23      6.8\n",
       "24      8.4\n",
       "25     11.5\n",
       "26      8.0\n",
       "27      7.3\n",
       "28      7.3\n",
       "29      9.8\n",
       "       ... \n",
       "177    32.2\n",
       "178    33.3\n",
       "179    33.3\n",
       "180    33.0\n",
       "181    33.1\n",
       "182    26.0\n",
       "183    26.2\n",
       "184    21.0\n",
       "185    21.6\n",
       "186    25.1\n",
       "187    23.4\n",
       "188    29.1\n",
       "189    26.7\n",
       "190    26.5\n",
       "191    30.2\n",
       "192    23.1\n",
       "193    26.8\n",
       "194    25.0\n",
       "195    21.9\n",
       "196    27.3\n",
       "197    28.8\n",
       "198    25.0\n",
       "199    24.1\n",
       "200    23.6\n",
       "201    25.2\n",
       "202    24.8\n",
       "203    25.4\n",
       "204    27.1\n",
       "205    26.6\n",
       "206    28.1\n",
       "Name: temperature, Length: 207, dtype: float64"
      ]
     },
     "execution_count": 59,
     "metadata": {},
     "output_type": "execute_result"
    }
   ],
   "source": [
    "trainX"
   ]
  },
  {
   "cell_type": "code",
   "execution_count": 60,
   "metadata": {},
   "outputs": [],
   "source": [
    "testX = test[\"temperature\"]"
   ]
  },
  {
   "cell_type": "code",
   "execution_count": 61,
   "metadata": {},
   "outputs": [],
   "source": [
    "trainX= trainX.values.reshape(-1,1)\n",
    "testX = testX.values.reshape(-1,1)"
   ]
  },
  {
   "cell_type": "code",
   "execution_count": 62,
   "metadata": {},
   "outputs": [
    {
     "data": {
      "text/plain": [
       "array([[19.8],\n",
       "       [17. ],\n",
       "       [15.5],\n",
       "       [15.2],\n",
       "       [16.1],\n",
       "       [14.6],\n",
       "       [17.9],\n",
       "       [14.7],\n",
       "       [17.7],\n",
       "       [12.1],\n",
       "       [13.8],\n",
       "       [13.9],\n",
       "       [13.5],\n",
       "       [13.8],\n",
       "       [14.9],\n",
       "       [ 9.1],\n",
       "       [ 7.1],\n",
       "       [11. ],\n",
       "       [12.3],\n",
       "       [13.9],\n",
       "       [11.3],\n",
       "       [10.8],\n",
       "       [ 7.8],\n",
       "       [ 6.8],\n",
       "       [ 8.4],\n",
       "       [11.5],\n",
       "       [ 8. ],\n",
       "       [ 7.3],\n",
       "       [ 7.3],\n",
       "       [ 9.8],\n",
       "       [10.9],\n",
       "       [ 5.1],\n",
       "       [ 5.8],\n",
       "       [ 2.9],\n",
       "       [ 7. ],\n",
       "       [ 7.8],\n",
       "       [ 6.5],\n",
       "       [10.4],\n",
       "       [ 7.4],\n",
       "       [ 8.5],\n",
       "       [10.1],\n",
       "       [ 5.1],\n",
       "       [12.6],\n",
       "       [10.3],\n",
       "       [15.3],\n",
       "       [14.1],\n",
       "       [15.9],\n",
       "       [ 3.8],\n",
       "       [ 3. ],\n",
       "       [ 4.2],\n",
       "       [ 5.5],\n",
       "       [ 7.8],\n",
       "       [ 6.3],\n",
       "       [ 6.4],\n",
       "       [ 1.2],\n",
       "       [11.6],\n",
       "       [ 6.8],\n",
       "       [ 7.3],\n",
       "       [ 5.4],\n",
       "       [ 8.5],\n",
       "       [ 6.6],\n",
       "       [10.5],\n",
       "       [11.5],\n",
       "       [ 8.5],\n",
       "       [17.7],\n",
       "       [ 7.8],\n",
       "       [ 8.3],\n",
       "       [ 6.1],\n",
       "       [ 6.7],\n",
       "       [ 7. ],\n",
       "       [ 7.6],\n",
       "       [ 8.7],\n",
       "       [14.8],\n",
       "       [15.2],\n",
       "       [11.5],\n",
       "       [14. ],\n",
       "       [18.9],\n",
       "       [12.6],\n",
       "       [ 7.5],\n",
       "       [17.4],\n",
       "       [18.9],\n",
       "       [18.7],\n",
       "       [12.4],\n",
       "       [18.5],\n",
       "       [17.5],\n",
       "       [16.1],\n",
       "       [18.2],\n",
       "       [14.3],\n",
       "       [17.8],\n",
       "       [13.8],\n",
       "       [20.1],\n",
       "       [19. ],\n",
       "       [21.3],\n",
       "       [16.5],\n",
       "       [16.4],\n",
       "       [19.7],\n",
       "       [21.5],\n",
       "       [20.1],\n",
       "       [11.4],\n",
       "       [16.4],\n",
       "       [18.8],\n",
       "       [19.4],\n",
       "       [19.9],\n",
       "       [20.8],\n",
       "       [22.7],\n",
       "       [17.5],\n",
       "       [24. ],\n",
       "       [23.3],\n",
       "       [18.9],\n",
       "       [21. ],\n",
       "       [23.4],\n",
       "       [22.7],\n",
       "       [18.6],\n",
       "       [26. ],\n",
       "       [19.3],\n",
       "       [23.8],\n",
       "       [22.8],\n",
       "       [23.9],\n",
       "       [17.4],\n",
       "       [19. ],\n",
       "       [19.8],\n",
       "       [23.9],\n",
       "       [23.7],\n",
       "       [25.7],\n",
       "       [26. ],\n",
       "       [26.9],\n",
       "       [30.6],\n",
       "       [27. ],\n",
       "       [27.5],\n",
       "       [21.5],\n",
       "       [19.9],\n",
       "       [25. ],\n",
       "       [25.5],\n",
       "       [22.3],\n",
       "       [21.3],\n",
       "       [29.5],\n",
       "       [28.1],\n",
       "       [27.6],\n",
       "       [21.9],\n",
       "       [27.5],\n",
       "       [26.5],\n",
       "       [26.9],\n",
       "       [23.7],\n",
       "       [25.2],\n",
       "       [25.2],\n",
       "       [25.4],\n",
       "       [25.5],\n",
       "       [28.3],\n",
       "       [28.8],\n",
       "       [27. ],\n",
       "       [22.1],\n",
       "       [24. ],\n",
       "       [29.7],\n",
       "       [24.6],\n",
       "       [28.8],\n",
       "       [33.9],\n",
       "       [30.9],\n",
       "       [30.3],\n",
       "       [30.9],\n",
       "       [30.1],\n",
       "       [25.6],\n",
       "       [30.2],\n",
       "       [32. ],\n",
       "       [32.5],\n",
       "       [33.6],\n",
       "       [28.9],\n",
       "       [30.4],\n",
       "       [30.6],\n",
       "       [32.5],\n",
       "       [32.7],\n",
       "       [32.7],\n",
       "       [34.3],\n",
       "       [34.6],\n",
       "       [32.1],\n",
       "       [31.1],\n",
       "       [32.4],\n",
       "       [29.4],\n",
       "       [32.2],\n",
       "       [33.3],\n",
       "       [33.3],\n",
       "       [33. ],\n",
       "       [33.1],\n",
       "       [26. ],\n",
       "       [26.2],\n",
       "       [21. ],\n",
       "       [21.6],\n",
       "       [25.1],\n",
       "       [23.4],\n",
       "       [29.1],\n",
       "       [26.7],\n",
       "       [26.5],\n",
       "       [30.2],\n",
       "       [23.1],\n",
       "       [26.8],\n",
       "       [25. ],\n",
       "       [21.9],\n",
       "       [27.3],\n",
       "       [28.8],\n",
       "       [25. ],\n",
       "       [24.1],\n",
       "       [23.6],\n",
       "       [25.2],\n",
       "       [24.8],\n",
       "       [25.4],\n",
       "       [27.1],\n",
       "       [26.6],\n",
       "       [28.1]])"
      ]
     },
     "execution_count": 62,
     "metadata": {},
     "output_type": "execute_result"
    }
   ],
   "source": [
    "trainX"
   ]
  },
  {
   "cell_type": "code",
   "execution_count": 63,
   "metadata": {},
   "outputs": [],
   "source": [
    "model1 = LR()"
   ]
  },
  {
   "cell_type": "code",
   "execution_count": 64,
   "metadata": {},
   "outputs": [
    {
     "data": {
      "text/plain": [
       "LinearRegression(copy_X=True, fit_intercept=True, n_jobs=None, normalize=False)"
      ]
     },
     "execution_count": 64,
     "metadata": {},
     "output_type": "execute_result"
    }
   ],
   "source": [
    "model1.fit(trainX,y)"
   ]
  },
  {
   "cell_type": "code",
   "execution_count": 65,
   "metadata": {},
   "outputs": [
    {
     "data": {
      "text/plain": [
       "array([-2.5023821])"
      ]
     },
     "execution_count": 65,
     "metadata": {},
     "output_type": "execute_result"
    }
   ],
   "source": [
    "model1.coef_"
   ]
  },
  {
   "cell_type": "code",
   "execution_count": 66,
   "metadata": {},
   "outputs": [
    {
     "data": {
      "text/plain": [
       "134.79948383749925"
      ]
     },
     "execution_count": 66,
     "metadata": {},
     "output_type": "execute_result"
    }
   ],
   "source": [
    "model1.intercept_"
   ]
  },
  {
   "cell_type": "code",
   "execution_count": 67,
   "metadata": {},
   "outputs": [],
   "source": [
    "pred = model1.predict(testX)"
   ]
  },
  {
   "cell_type": "code",
   "execution_count": 68,
   "metadata": {},
   "outputs": [
    {
     "data": {
      "text/plain": [
       "array([ 84.25136537,  74.99255159,  62.9811175 ,  80.99826864,\n",
       "        79.49683938,  76.49398085,  78.49588653,  69.48731097,\n",
       "        67.73564349,  95.76232304,  88.25517673,  77.24469548,\n",
       "        74.99255159,  84.25136537,  96.01256125,  98.01446693,\n",
       "        88.00493852,  77.99541011,  87.00398568,  85.75279463,\n",
       "        85.75279463,  87.75470031,  87.5044621 ,  94.7613702 ,\n",
       "        86.75374747,  84.50160358,  81.74898327,  98.01446693,\n",
       "        98.76518156,  86.00303284,  95.26184662,  99.01541977,\n",
       "        94.51113199,  97.51399051, 108.52447176,  97.51399051,\n",
       "       106.27232787, 111.7775685 ,  97.01351409,  96.51303767])"
      ]
     },
     "execution_count": 68,
     "metadata": {},
     "output_type": "execute_result"
    }
   ],
   "source": [
    "pred"
   ]
  },
  {
   "cell_type": "code",
   "execution_count": 69,
   "metadata": {},
   "outputs": [
    {
     "data": {
      "text/html": [
       "<div>\n",
       "<style scoped>\n",
       "    .dataframe tbody tr th:only-of-type {\n",
       "        vertical-align: middle;\n",
       "    }\n",
       "\n",
       "    .dataframe tbody tr th {\n",
       "        vertical-align: top;\n",
       "    }\n",
       "\n",
       "    .dataframe thead th {\n",
       "        text-align: right;\n",
       "    }\n",
       "</style>\n",
       "<table border=\"1\" class=\"dataframe\">\n",
       "  <thead>\n",
       "    <tr style=\"text-align: right;\">\n",
       "      <th></th>\n",
       "      <th>0</th>\n",
       "      <th>1</th>\n",
       "    </tr>\n",
       "  </thead>\n",
       "  <tbody>\n",
       "    <tr>\n",
       "      <th>0</th>\n",
       "      <td>2014-10-1</td>\n",
       "      <td>24</td>\n",
       "    </tr>\n",
       "    <tr>\n",
       "      <th>1</th>\n",
       "      <td>2014-10-2</td>\n",
       "      <td>71</td>\n",
       "    </tr>\n",
       "    <tr>\n",
       "      <th>2</th>\n",
       "      <td>2014-10-3</td>\n",
       "      <td>25</td>\n",
       "    </tr>\n",
       "    <tr>\n",
       "      <th>3</th>\n",
       "      <td>2014-10-6</td>\n",
       "      <td>32</td>\n",
       "    </tr>\n",
       "    <tr>\n",
       "      <th>4</th>\n",
       "      <td>2014-10-7</td>\n",
       "      <td>60</td>\n",
       "    </tr>\n",
       "  </tbody>\n",
       "</table>\n",
       "</div>"
      ],
      "text/plain": [
       "           0   1\n",
       "0  2014-10-1  24\n",
       "1  2014-10-2  71\n",
       "2  2014-10-3  25\n",
       "3  2014-10-6  32\n",
       "4  2014-10-7  60"
      ]
     },
     "execution_count": 69,
     "metadata": {},
     "output_type": "execute_result"
    }
   ],
   "source": [
    "sample.head()"
   ]
  },
  {
   "cell_type": "code",
   "execution_count": 70,
   "metadata": {},
   "outputs": [],
   "source": [
    "sample[1]=pred"
   ]
  },
  {
   "cell_type": "code",
   "execution_count": 71,
   "metadata": {},
   "outputs": [
    {
     "data": {
      "text/html": [
       "<div>\n",
       "<style scoped>\n",
       "    .dataframe tbody tr th:only-of-type {\n",
       "        vertical-align: middle;\n",
       "    }\n",
       "\n",
       "    .dataframe tbody tr th {\n",
       "        vertical-align: top;\n",
       "    }\n",
       "\n",
       "    .dataframe thead th {\n",
       "        text-align: right;\n",
       "    }\n",
       "</style>\n",
       "<table border=\"1\" class=\"dataframe\">\n",
       "  <thead>\n",
       "    <tr style=\"text-align: right;\">\n",
       "      <th></th>\n",
       "      <th>0</th>\n",
       "      <th>1</th>\n",
       "    </tr>\n",
       "  </thead>\n",
       "  <tbody>\n",
       "    <tr>\n",
       "      <th>0</th>\n",
       "      <td>2014-10-1</td>\n",
       "      <td>84.251365</td>\n",
       "    </tr>\n",
       "    <tr>\n",
       "      <th>1</th>\n",
       "      <td>2014-10-2</td>\n",
       "      <td>74.992552</td>\n",
       "    </tr>\n",
       "    <tr>\n",
       "      <th>2</th>\n",
       "      <td>2014-10-3</td>\n",
       "      <td>62.981117</td>\n",
       "    </tr>\n",
       "    <tr>\n",
       "      <th>3</th>\n",
       "      <td>2014-10-6</td>\n",
       "      <td>80.998269</td>\n",
       "    </tr>\n",
       "    <tr>\n",
       "      <th>4</th>\n",
       "      <td>2014-10-7</td>\n",
       "      <td>79.496839</td>\n",
       "    </tr>\n",
       "  </tbody>\n",
       "</table>\n",
       "</div>"
      ],
      "text/plain": [
       "           0          1\n",
       "0  2014-10-1  84.251365\n",
       "1  2014-10-2  74.992552\n",
       "2  2014-10-3  62.981117\n",
       "3  2014-10-6  80.998269\n",
       "4  2014-10-7  79.496839"
      ]
     },
     "execution_count": 71,
     "metadata": {},
     "output_type": "execute_result"
    }
   ],
   "source": [
    "sample.head()"
   ]
  },
  {
   "cell_type": "code",
   "execution_count": 72,
   "metadata": {},
   "outputs": [],
   "source": [
    "sample.to_csv('submit1.csv', index=None, header=None)"
   ]
  },
  {
   "cell_type": "code",
   "execution_count": 73,
   "metadata": {},
   "outputs": [
    {
     "data": {
      "text/plain": [
       "datetime           0\n",
       "y                  0\n",
       "week               0\n",
       "soldout            0\n",
       "name               0\n",
       "kcal              41\n",
       "remarks          186\n",
       "event            193\n",
       "payday           197\n",
       "weather            0\n",
       "precipitation      0\n",
       "temperature        0\n",
       "dtype: int64"
      ]
     },
     "execution_count": 73,
     "metadata": {},
     "output_type": "execute_result"
    }
   ],
   "source": [
    "train.isnull().sum()"
   ]
  },
  {
   "cell_type": "code",
   "execution_count": 74,
   "metadata": {},
   "outputs": [
    {
     "data": {
      "text/plain": [
       "datetime          0\n",
       "week              0\n",
       "soldout           0\n",
       "name              0\n",
       "kcal              4\n",
       "remarks          33\n",
       "event            37\n",
       "payday           38\n",
       "weather           0\n",
       "precipitation     0\n",
       "temperature       0\n",
       "dtype: int64"
      ]
     },
     "execution_count": 74,
     "metadata": {},
     "output_type": "execute_result"
    }
   ],
   "source": [
    "test.isnull().sum()"
   ]
  },
  {
   "cell_type": "code",
   "execution_count": 75,
   "metadata": {},
   "outputs": [],
   "source": [
    "avg = train['kcal'].mean()"
   ]
  },
  {
   "cell_type": "code",
   "execution_count": 76,
   "metadata": {},
   "outputs": [
    {
     "data": {
      "text/plain": [
       "404.4096385542169"
      ]
     },
     "execution_count": 76,
     "metadata": {},
     "output_type": "execute_result"
    }
   ],
   "source": [
    "avg"
   ]
  },
  {
   "cell_type": "code",
   "execution_count": 79,
   "metadata": {},
   "outputs": [],
   "source": [
    "trainX = train['kcal'].fillna(avg)\n",
    "testX = test['kcal'].fillna(avg)"
   ]
  },
  {
   "cell_type": "code",
   "execution_count": 80,
   "metadata": {},
   "outputs": [
    {
     "data": {
      "text/plain": [
       "0      404.409639\n",
       "1      404.409639\n",
       "2      404.409639\n",
       "3      404.409639\n",
       "4      404.409639\n",
       "5      404.409639\n",
       "6      404.409639\n",
       "7      404.409639\n",
       "8      404.409639\n",
       "9      404.409639\n",
       "10     404.409639\n",
       "11     404.409639\n",
       "12     404.409639\n",
       "13     404.409639\n",
       "14     404.409639\n",
       "15     404.409639\n",
       "16     404.409639\n",
       "17     404.409639\n",
       "18     404.409639\n",
       "19     404.409639\n",
       "20     404.409639\n",
       "21     404.409639\n",
       "22     404.409639\n",
       "23     404.409639\n",
       "24     404.409639\n",
       "25     404.409639\n",
       "26     404.409639\n",
       "27     404.409639\n",
       "28     404.000000\n",
       "29     462.000000\n",
       "          ...    \n",
       "177    396.000000\n",
       "178    385.000000\n",
       "179    423.000000\n",
       "180    405.000000\n",
       "181    404.409639\n",
       "182    412.000000\n",
       "183    400.000000\n",
       "184    410.000000\n",
       "185    396.000000\n",
       "186    398.000000\n",
       "187    380.000000\n",
       "188    440.000000\n",
       "189    408.000000\n",
       "190    405.000000\n",
       "191    380.000000\n",
       "192    385.000000\n",
       "193    460.000000\n",
       "194    450.000000\n",
       "195    385.000000\n",
       "196    404.409639\n",
       "197    438.000000\n",
       "198    430.000000\n",
       "199    395.000000\n",
       "200    400.000000\n",
       "201    395.000000\n",
       "202    408.000000\n",
       "203    394.000000\n",
       "204    404.409639\n",
       "205    404.000000\n",
       "206    398.000000\n",
       "Name: kcal, Length: 207, dtype: float64"
      ]
     },
     "execution_count": 80,
     "metadata": {},
     "output_type": "execute_result"
    }
   ],
   "source": [
    "trainX"
   ]
  },
  {
   "cell_type": "code",
   "execution_count": 81,
   "metadata": {},
   "outputs": [],
   "source": [
    "trainX = trainX.values.reshape(-1,1)\n",
    "testX = testX.values.reshape(-1,1)"
   ]
  },
  {
   "cell_type": "code",
   "execution_count": 83,
   "metadata": {},
   "outputs": [
    {
     "data": {
      "text/plain": [
       "array([[404.40963855],\n",
       "       [404.40963855],\n",
       "       [404.40963855]])"
      ]
     },
     "execution_count": 83,
     "metadata": {},
     "output_type": "execute_result"
    }
   ],
   "source": [
    "trainX[:3]"
   ]
  },
  {
   "cell_type": "code",
   "execution_count": 84,
   "metadata": {},
   "outputs": [],
   "source": [
    "y = train['y']"
   ]
  },
  {
   "cell_type": "code",
   "execution_count": 86,
   "metadata": {},
   "outputs": [],
   "source": [
    "model2 = LR()"
   ]
  },
  {
   "cell_type": "code",
   "execution_count": 87,
   "metadata": {},
   "outputs": [
    {
     "data": {
      "text/plain": [
       "LinearRegression(copy_X=True, fit_intercept=True, n_jobs=None, normalize=False)"
      ]
     },
     "execution_count": 87,
     "metadata": {},
     "output_type": "execute_result"
    }
   ],
   "source": [
    "model2.fit(trainX, y)"
   ]
  },
  {
   "cell_type": "code",
   "execution_count": 89,
   "metadata": {},
   "outputs": [
    {
     "data": {
      "text/plain": [
       "array([0.13195178])"
      ]
     },
     "execution_count": 89,
     "metadata": {},
     "output_type": "execute_result"
    }
   ],
   "source": [
    "model2.coef_"
   ]
  },
  {
   "cell_type": "code",
   "execution_count": 91,
   "metadata": {},
   "outputs": [
    {
     "data": {
      "text/plain": [
       "33.26061577029441"
      ]
     },
     "execution_count": 91,
     "metadata": {},
     "output_type": "execute_result"
    }
   ],
   "source": [
    "model2.intercept_"
   ]
  },
  {
   "cell_type": "code",
   "execution_count": 92,
   "metadata": {},
   "outputs": [],
   "source": [
    "pred2 = model2.predict(testX)"
   ]
  },
  {
   "cell_type": "code",
   "execution_count": 93,
   "metadata": {},
   "outputs": [
    {
     "data": {
      "text/plain": [
       "array([88.68036439, 88.02060548, 86.70108765, 86.04132874, 89.99988221,\n",
       "       88.68036439, 90.65964112, 86.62318841, 87.096943  , 92.63891786,\n",
       "       86.04132874, 88.02060548, 89.47207508, 87.36084656, 88.02060548,\n",
       "       89.73597865, 86.62318841, 86.96499122, 89.3401233 , 89.99988221,\n",
       "       89.47207508, 90.79159291, 91.31940004, 89.3401233 , 87.36084656,\n",
       "       86.62318841, 87.62475013, 89.47207508, 88.41646082, 85.51352161,\n",
       "       89.60402686, 90.39573756, 87.22889478, 89.99988221, 88.81231617,\n",
       "       86.62318841, 93.95843568, 88.02060548, 88.68036439, 88.15255726])"
      ]
     },
     "execution_count": 93,
     "metadata": {},
     "output_type": "execute_result"
    }
   ],
   "source": [
    "pred2"
   ]
  },
  {
   "cell_type": "code",
   "execution_count": 95,
   "metadata": {},
   "outputs": [],
   "source": [
    "sample[1] = pred2"
   ]
  },
  {
   "cell_type": "code",
   "execution_count": 96,
   "metadata": {},
   "outputs": [
    {
     "data": {
      "text/html": [
       "<div>\n",
       "<style scoped>\n",
       "    .dataframe tbody tr th:only-of-type {\n",
       "        vertical-align: middle;\n",
       "    }\n",
       "\n",
       "    .dataframe tbody tr th {\n",
       "        vertical-align: top;\n",
       "    }\n",
       "\n",
       "    .dataframe thead th {\n",
       "        text-align: right;\n",
       "    }\n",
       "</style>\n",
       "<table border=\"1\" class=\"dataframe\">\n",
       "  <thead>\n",
       "    <tr style=\"text-align: right;\">\n",
       "      <th></th>\n",
       "      <th>0</th>\n",
       "      <th>1</th>\n",
       "    </tr>\n",
       "  </thead>\n",
       "  <tbody>\n",
       "    <tr>\n",
       "      <th>0</th>\n",
       "      <td>2014-10-1</td>\n",
       "      <td>88.680364</td>\n",
       "    </tr>\n",
       "    <tr>\n",
       "      <th>1</th>\n",
       "      <td>2014-10-2</td>\n",
       "      <td>88.020605</td>\n",
       "    </tr>\n",
       "    <tr>\n",
       "      <th>2</th>\n",
       "      <td>2014-10-3</td>\n",
       "      <td>86.701088</td>\n",
       "    </tr>\n",
       "    <tr>\n",
       "      <th>3</th>\n",
       "      <td>2014-10-6</td>\n",
       "      <td>86.041329</td>\n",
       "    </tr>\n",
       "    <tr>\n",
       "      <th>4</th>\n",
       "      <td>2014-10-7</td>\n",
       "      <td>89.999882</td>\n",
       "    </tr>\n",
       "    <tr>\n",
       "      <th>5</th>\n",
       "      <td>2014-10-8</td>\n",
       "      <td>88.680364</td>\n",
       "    </tr>\n",
       "    <tr>\n",
       "      <th>6</th>\n",
       "      <td>2014-10-9</td>\n",
       "      <td>90.659641</td>\n",
       "    </tr>\n",
       "    <tr>\n",
       "      <th>7</th>\n",
       "      <td>2014-10-10</td>\n",
       "      <td>86.623188</td>\n",
       "    </tr>\n",
       "    <tr>\n",
       "      <th>8</th>\n",
       "      <td>2014-10-14</td>\n",
       "      <td>87.096943</td>\n",
       "    </tr>\n",
       "    <tr>\n",
       "      <th>9</th>\n",
       "      <td>2014-10-15</td>\n",
       "      <td>92.638918</td>\n",
       "    </tr>\n",
       "    <tr>\n",
       "      <th>10</th>\n",
       "      <td>2014-10-16</td>\n",
       "      <td>86.041329</td>\n",
       "    </tr>\n",
       "    <tr>\n",
       "      <th>11</th>\n",
       "      <td>2014-10-17</td>\n",
       "      <td>88.020605</td>\n",
       "    </tr>\n",
       "    <tr>\n",
       "      <th>12</th>\n",
       "      <td>2014-10-20</td>\n",
       "      <td>89.472075</td>\n",
       "    </tr>\n",
       "    <tr>\n",
       "      <th>13</th>\n",
       "      <td>2014-10-21</td>\n",
       "      <td>87.360847</td>\n",
       "    </tr>\n",
       "    <tr>\n",
       "      <th>14</th>\n",
       "      <td>2014-10-22</td>\n",
       "      <td>88.020605</td>\n",
       "    </tr>\n",
       "    <tr>\n",
       "      <th>15</th>\n",
       "      <td>2014-10-23</td>\n",
       "      <td>89.735979</td>\n",
       "    </tr>\n",
       "    <tr>\n",
       "      <th>16</th>\n",
       "      <td>2014-10-24</td>\n",
       "      <td>86.623188</td>\n",
       "    </tr>\n",
       "    <tr>\n",
       "      <th>17</th>\n",
       "      <td>2014-10-27</td>\n",
       "      <td>86.964991</td>\n",
       "    </tr>\n",
       "    <tr>\n",
       "      <th>18</th>\n",
       "      <td>2014-10-28</td>\n",
       "      <td>89.340123</td>\n",
       "    </tr>\n",
       "    <tr>\n",
       "      <th>19</th>\n",
       "      <td>2014-10-29</td>\n",
       "      <td>89.999882</td>\n",
       "    </tr>\n",
       "    <tr>\n",
       "      <th>20</th>\n",
       "      <td>2014-10-30</td>\n",
       "      <td>89.472075</td>\n",
       "    </tr>\n",
       "    <tr>\n",
       "      <th>21</th>\n",
       "      <td>2014-10-31</td>\n",
       "      <td>90.791593</td>\n",
       "    </tr>\n",
       "    <tr>\n",
       "      <th>22</th>\n",
       "      <td>2014-11-4</td>\n",
       "      <td>91.319400</td>\n",
       "    </tr>\n",
       "    <tr>\n",
       "      <th>23</th>\n",
       "      <td>2014-11-5</td>\n",
       "      <td>89.340123</td>\n",
       "    </tr>\n",
       "    <tr>\n",
       "      <th>24</th>\n",
       "      <td>2014-11-6</td>\n",
       "      <td>87.360847</td>\n",
       "    </tr>\n",
       "    <tr>\n",
       "      <th>25</th>\n",
       "      <td>2014-11-7</td>\n",
       "      <td>86.623188</td>\n",
       "    </tr>\n",
       "    <tr>\n",
       "      <th>26</th>\n",
       "      <td>2014-11-10</td>\n",
       "      <td>87.624750</td>\n",
       "    </tr>\n",
       "    <tr>\n",
       "      <th>27</th>\n",
       "      <td>2014-11-11</td>\n",
       "      <td>89.472075</td>\n",
       "    </tr>\n",
       "    <tr>\n",
       "      <th>28</th>\n",
       "      <td>2014-11-12</td>\n",
       "      <td>88.416461</td>\n",
       "    </tr>\n",
       "    <tr>\n",
       "      <th>29</th>\n",
       "      <td>2014-11-13</td>\n",
       "      <td>85.513522</td>\n",
       "    </tr>\n",
       "    <tr>\n",
       "      <th>30</th>\n",
       "      <td>2014-11-14</td>\n",
       "      <td>89.604027</td>\n",
       "    </tr>\n",
       "    <tr>\n",
       "      <th>31</th>\n",
       "      <td>2014-11-17</td>\n",
       "      <td>90.395738</td>\n",
       "    </tr>\n",
       "    <tr>\n",
       "      <th>32</th>\n",
       "      <td>2014-11-18</td>\n",
       "      <td>87.228895</td>\n",
       "    </tr>\n",
       "    <tr>\n",
       "      <th>33</th>\n",
       "      <td>2014-11-19</td>\n",
       "      <td>89.999882</td>\n",
       "    </tr>\n",
       "    <tr>\n",
       "      <th>34</th>\n",
       "      <td>2014-11-20</td>\n",
       "      <td>88.812316</td>\n",
       "    </tr>\n",
       "    <tr>\n",
       "      <th>35</th>\n",
       "      <td>2014-11-21</td>\n",
       "      <td>86.623188</td>\n",
       "    </tr>\n",
       "    <tr>\n",
       "      <th>36</th>\n",
       "      <td>2014-11-25</td>\n",
       "      <td>93.958436</td>\n",
       "    </tr>\n",
       "    <tr>\n",
       "      <th>37</th>\n",
       "      <td>2014-11-26</td>\n",
       "      <td>88.020605</td>\n",
       "    </tr>\n",
       "    <tr>\n",
       "      <th>38</th>\n",
       "      <td>2014-11-27</td>\n",
       "      <td>88.680364</td>\n",
       "    </tr>\n",
       "    <tr>\n",
       "      <th>39</th>\n",
       "      <td>2014-11-28</td>\n",
       "      <td>88.152557</td>\n",
       "    </tr>\n",
       "  </tbody>\n",
       "</table>\n",
       "</div>"
      ],
      "text/plain": [
       "             0          1\n",
       "0    2014-10-1  88.680364\n",
       "1    2014-10-2  88.020605\n",
       "2    2014-10-3  86.701088\n",
       "3    2014-10-6  86.041329\n",
       "4    2014-10-7  89.999882\n",
       "5    2014-10-8  88.680364\n",
       "6    2014-10-9  90.659641\n",
       "7   2014-10-10  86.623188\n",
       "8   2014-10-14  87.096943\n",
       "9   2014-10-15  92.638918\n",
       "10  2014-10-16  86.041329\n",
       "11  2014-10-17  88.020605\n",
       "12  2014-10-20  89.472075\n",
       "13  2014-10-21  87.360847\n",
       "14  2014-10-22  88.020605\n",
       "15  2014-10-23  89.735979\n",
       "16  2014-10-24  86.623188\n",
       "17  2014-10-27  86.964991\n",
       "18  2014-10-28  89.340123\n",
       "19  2014-10-29  89.999882\n",
       "20  2014-10-30  89.472075\n",
       "21  2014-10-31  90.791593\n",
       "22   2014-11-4  91.319400\n",
       "23   2014-11-5  89.340123\n",
       "24   2014-11-6  87.360847\n",
       "25   2014-11-7  86.623188\n",
       "26  2014-11-10  87.624750\n",
       "27  2014-11-11  89.472075\n",
       "28  2014-11-12  88.416461\n",
       "29  2014-11-13  85.513522\n",
       "30  2014-11-14  89.604027\n",
       "31  2014-11-17  90.395738\n",
       "32  2014-11-18  87.228895\n",
       "33  2014-11-19  89.999882\n",
       "34  2014-11-20  88.812316\n",
       "35  2014-11-21  86.623188\n",
       "36  2014-11-25  93.958436\n",
       "37  2014-11-26  88.020605\n",
       "38  2014-11-27  88.680364\n",
       "39  2014-11-28  88.152557"
      ]
     },
     "execution_count": 96,
     "metadata": {},
     "output_type": "execute_result"
    }
   ],
   "source": [
    "sample"
   ]
  },
  {
   "cell_type": "code",
   "execution_count": null,
   "metadata": {},
   "outputs": [],
   "source": []
  }
 ],
 "metadata": {
  "anaconda-cloud": {},
  "kernelspec": {
   "display_name": "Python 3",
   "language": "python",
   "name": "python3"
  },
  "language_info": {
   "codemirror_mode": {
    "name": "ipython",
    "version": 3
   },
   "file_extension": ".py",
   "mimetype": "text/x-python",
   "name": "python",
   "nbconvert_exporter": "python",
   "pygments_lexer": "ipython3",
   "version": "3.7.3"
  }
 },
 "nbformat": 4,
 "nbformat_minor": 2
}
