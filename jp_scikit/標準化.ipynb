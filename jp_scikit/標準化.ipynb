{
 "cells": [
  {
   "cell_type": "code",
   "execution_count": 1,
   "metadata": {},
   "outputs": [
    {
     "name": "stderr",
     "output_type": "stream",
     "text": [
      "/home/ma/.bin/anaconda3/lib/python3.7/importlib/_bootstrap.py:219: RuntimeWarning: numpy.ufunc size changed, may indicate binary incompatibility. Expected 192 from C header, got 216 from PyObject\n",
      "  return f(*args, **kwds)\n"
     ]
    }
   ],
   "source": [
    "import numpy as np\n",
    "import pandas as pd\n",
    "import matplotlib.pyplot as plt\n",
    "%matplotlib inline"
   ]
  },
  {
   "cell_type": "code",
   "execution_count": 2,
   "metadata": {},
   "outputs": [],
   "source": [
    "from sklearn.datasets import load_breast_cancer"
   ]
  },
  {
   "cell_type": "code",
   "execution_count": 3,
   "metadata": {},
   "outputs": [],
   "source": [
    "data = load_breast_cancer()"
   ]
  },
  {
   "cell_type": "code",
   "execution_count": 5,
   "metadata": {},
   "outputs": [],
   "source": [
    "X = data.data\n",
    "y = data.target"
   ]
  },
  {
   "cell_type": "code",
   "execution_count": 4,
   "metadata": {},
   "outputs": [],
   "source": [
    "from sklearn.model_selection import ShuffleSplit"
   ]
  },
  {
   "cell_type": "code",
   "execution_count": 7,
   "metadata": {},
   "outputs": [],
   "source": [
    "ss = ShuffleSplit(n_splits=1,\n",
    "                 train_size=0.8,\n",
    "                 test_size=0.2,\n",
    "                 random_state=0)\n",
    "train_index, test_index = next(ss.split(X, y))\n",
    "\n",
    "X_train, X_test = X[train_index], X[test_index]\n",
    "y_train, y_test = y[train_index], y[test_index]"
   ]
  },
  {
   "cell_type": "code",
   "execution_count": 9,
   "metadata": {},
   "outputs": [],
   "source": [
    "from sklearn.preprocessing import StandardScaler\n",
    "scaler = StandardScaler()"
   ]
  },
  {
   "cell_type": "code",
   "execution_count": 10,
   "metadata": {},
   "outputs": [
    {
     "data": {
      "text/plain": [
       "StandardScaler(copy=True, with_mean=True, with_std=True)"
      ]
     },
     "execution_count": 10,
     "metadata": {},
     "output_type": "execute_result"
    }
   ],
   "source": [
    "scaler.fit(X_train)\n"
   ]
  },
  {
   "cell_type": "code",
   "execution_count": 11,
   "metadata": {},
   "outputs": [],
   "source": [
    "X_train_scale = scaler.transform(X_train)"
   ]
  },
  {
   "cell_type": "code",
   "execution_count": 13,
   "metadata": {},
   "outputs": [
    {
     "data": {
      "text/plain": [
       "(array([-8.97694617e-16, -3.35165351e-15,  3.23355506e-15, -2.22727819e-15,\n",
       "        -1.46512838e-15,  5.31740403e-16,  6.61497719e-16,  4.76053873e-16,\n",
       "        -5.68678194e-15,  6.94804409e-16,  4.90450171e-17,  5.76827963e-16,\n",
       "         8.10706813e-16,  1.82881793e-16,  1.79160716e-15,  4.15540618e-16,\n",
       "         3.25502751e-16,  6.02265490e-16, -1.51771148e-16,  1.34580991e-15,\n",
       "        -4.28960896e-16,  4.92402212e-16, -1.51795548e-15,  1.32494748e-16,\n",
       "         5.92337534e-15, -4.70369317e-16, -1.36923440e-15,  2.56327316e-16,\n",
       "        -2.12333204e-15,  1.99242332e-15]),\n",
       " array([1., 1., 1., 1., 1., 1., 1., 1., 1., 1., 1., 1., 1., 1., 1., 1., 1.,\n",
       "        1., 1., 1., 1., 1., 1., 1., 1., 1., 1., 1., 1., 1.]))"
      ]
     },
     "execution_count": 13,
     "metadata": {},
     "output_type": "execute_result"
    }
   ],
   "source": [
    "X_train_scale.mean(axis=0), X_train_scale.std(axis=0)"
   ]
  },
  {
   "cell_type": "code",
   "execution_count": 14,
   "metadata": {},
   "outputs": [
    {
     "data": {
      "text/plain": [
       "(array([1.41124989e+01, 1.91528791e+01, 9.18182857e+01, 6.53819121e+02,\n",
       "        9.64133407e-02, 1.03318659e-01, 8.74845356e-02, 4.86900264e-02,\n",
       "        1.80939121e-01, 6.26680220e-02, 4.02523516e-01, 1.20988066e+00,\n",
       "        2.82524681e+00, 4.02856176e+01, 7.00339341e-03, 2.50632286e-02,\n",
       "        3.14727859e-02, 1.16463495e-02, 2.05252703e-02, 3.71029516e-03,\n",
       "        1.62560967e+01, 2.55387473e+01, 1.07031407e+02, 8.81189890e+02,\n",
       "        1.32459231e-01, 2.51861846e-01, 2.67491334e-01, 1.14447673e-01,\n",
       "        2.90416044e-01, 8.34914286e-02]),\n",
       " array([3.53148742e+00, 4.15439017e+00, 2.42862794e+01, 3.57772373e+02,\n",
       "        1.37841928e-02, 5.04344575e-02, 7.77159693e-02, 3.85550295e-02,\n",
       "        2.73677762e-02, 6.81132951e-03, 2.84057900e-01, 5.41365325e-01,\n",
       "        2.03551332e+00, 4.76779413e+01, 2.84053720e-03, 1.74905171e-02,\n",
       "        3.10715741e-02, 5.89071328e-03, 8.18748246e-03, 2.60681955e-03,\n",
       "        4.88517629e+00, 6.09392372e+00, 3.38319477e+01, 5.85750909e+02,\n",
       "        2.26008843e-02, 1.52941020e-01, 1.99417998e-01, 6.52489952e-02,\n",
       "        6.29222641e-02, 1.77943460e-02]))"
      ]
     },
     "execution_count": 14,
     "metadata": {},
     "output_type": "execute_result"
    }
   ],
   "source": [
    "X_train.mean(axis=0), X_train.std(axis=0)"
   ]
  },
  {
   "cell_type": "code",
   "execution_count": 15,
   "metadata": {},
   "outputs": [],
   "source": [
    "X_test_scale = scaler.transform(X_test)"
   ]
  },
  {
   "cell_type": "code",
   "execution_count": 16,
   "metadata": {},
   "outputs": [
    {
     "data": {
      "text/plain": [
       "(array([ 0.02090746,  0.16431947,  0.03098112,  0.01492717, -0.01921272,\n",
       "         0.10117401,  0.0844404 ,  0.02966118,  0.04062282,  0.09495981,\n",
       "         0.04653793,  0.06428685,  0.10007503,  0.00538732,  0.06604308,\n",
       "         0.11840198,  0.06761678,  0.12691574,  0.01038083,  0.16199868,\n",
       "         0.01337734,  0.11341872,  0.03390329, -0.00517026, -0.02001641,\n",
       "         0.07842833,  0.11756483,  0.01212835, -0.02700757,  0.12745382]),\n",
       " array([0.98484055, 1.15221352, 0.99783441, 0.91061412, 1.09332501,\n",
       "        1.20997119, 1.11614317, 1.02702513, 1.0034221 , 1.16404942,\n",
       "        0.86929934, 1.0858183 , 0.95738032, 0.73797558, 1.25386932,\n",
       "        1.10490478, 0.84120579, 1.20933979, 1.04289005, 1.05896921,\n",
       "        0.94112182, 1.03290198, 0.96071254, 0.84629366, 1.04571542,\n",
       "        1.12996138, 1.20450506, 1.03208579, 0.90829415, 1.06246714]))"
      ]
     },
     "execution_count": 16,
     "metadata": {},
     "output_type": "execute_result"
    }
   ],
   "source": [
    "X_test_scale.mean(axis=0), X_test_scale.std(axis=0)"
   ]
  },
  {
   "cell_type": "code",
   "execution_count": 18,
   "metadata": {},
   "outputs": [
    {
     "data": {
      "image/png": "[encoded data removed]",
      "text/plain": [
       "<Figure size 432x288 with 1 Axes>"
      ]
     },
     "metadata": {
      "needs_background": "light"
     },
     "output_type": "display_data"
    }
   ],
   "source": [
    "plt.scatter(X_train_scale[:,3], X_train_scale[:, 4],c='blue', label=\"traindata\")\n",
    "plt.scatter(X_test_scale[:,3], X_test_scale[:, 4],c='red', label=\"test\")\n",
    "\n",
    "plt.xlabel(data.feature_names[3] +\"(standardised)\")\n",
    "plt.ylabel(data.feature_names[4] +\"(standardised)\")\n",
    "plt.legend(loc=\"best\");"
   ]
  },
  {
   "cell_type": "code",
   "execution_count": 19,
   "metadata": {},
   "outputs": [],
   "source": [
    "from sklearn import linear_model\n",
    "clf = linear_model.LogisticRegression()"
   ]
  },
  {
   "cell_type": "code",
   "execution_count": 20,
   "metadata": {},
   "outputs": [
    {
     "name": "stderr",
     "output_type": "stream",
     "text": [
      "/home/ma/.bin/anaconda3/lib/python3.7/site-packages/sklearn/linear_model/logistic.py:432: FutureWarning: Default solver will be changed to 'lbfgs' in 0.22. Specify a solver to silence this warning.\n",
      "  FutureWarning)\n"
     ]
    },
    {
     "data": {
      "text/plain": [
       "0.9649122807017544"
      ]
     },
     "execution_count": 20,
     "metadata": {},
     "output_type": "execute_result"
    }
   ],
   "source": [
    "clf.fit(X_train_scale, y_train)\n",
    "clf.score(X_test_scale, y_test)"
   ]
  },
  {
   "cell_type": "code",
   "execution_count": 21,
   "metadata": {},
   "outputs": [
    {
     "name": "stderr",
     "output_type": "stream",
     "text": [
      "/home/ma/.bin/anaconda3/lib/python3.7/site-packages/sklearn/linear_model/logistic.py:432: FutureWarning: Default solver will be changed to 'lbfgs' in 0.22. Specify a solver to silence this warning.\n",
      "  FutureWarning)\n"
     ]
    },
    {
     "data": {
      "text/plain": [
       "0.956140350877193"
      ]
     },
     "execution_count": 21,
     "metadata": {},
     "output_type": "execute_result"
    }
   ],
   "source": [
    "clf.fit(X_train, y_train)\n",
    "clf.score(X_test, y_test)"
   ]
  },
  {
   "cell_type": "code",
   "execution_count": 22,
   "metadata": {},
   "outputs": [],
   "source": [
    "from sklearn.preprocessing import MinMaxScaler\n",
    "mmscaler = MinMaxScaler([-1,1])"
   ]
  },
  {
   "cell_type": "code",
   "execution_count": 23,
   "metadata": {},
   "outputs": [],
   "source": [
    "mmscaler.fit(X_train)\n",
    "X_train_mms = mmscaler.transform(X_train)\n",
    "X_test_mms = mmscaler.transform(X_test)"
   ]
  },
  {
   "cell_type": "code",
   "execution_count": 24,
   "metadata": {},
   "outputs": [
    {
     "data": {
      "image/png": "[encoded data removed]",
      "text/plain": [
       "<Figure size 432x288 with 1 Axes>"
      ]
     },
     "metadata": {
      "needs_background": "light"
     },
     "output_type": "display_data"
    }
   ],
   "source": [
    "plt.scatter(X_train_mms[:,3], X_train_mms[:, 4],c='blue', label=\"traindata\")\n",
    "plt.scatter(X_test_mms[:,3], X_test_mms[:, 4],c='red', label=\"test\")\n",
    "\n",
    "plt.xlabel(data.feature_names[3] +\"(standardised)\")\n",
    "plt.ylabel(data.feature_names[4] +\"(standardised)\")\n",
    "plt.legend(loc=\"best\");"
   ]
  },
  {
   "cell_type": "code",
   "execution_count": 25,
   "metadata": {},
   "outputs": [
    {
     "name": "stderr",
     "output_type": "stream",
     "text": [
      "/home/ma/.bin/anaconda3/lib/python3.7/site-packages/sklearn/linear_model/logistic.py:432: FutureWarning: Default solver will be changed to 'lbfgs' in 0.22. Specify a solver to silence this warning.\n",
      "  FutureWarning)\n"
     ]
    },
    {
     "data": {
      "text/plain": [
       "0.9649122807017544"
      ]
     },
     "execution_count": 25,
     "metadata": {},
     "output_type": "execute_result"
    }
   ],
   "source": [
    "clf.fit(X_train_mms, y_train)\n",
    "clf.score(X_test_mms, y_test)"
   ]
  },
  {
   "cell_type": "code",
   "execution_count": 26,
   "metadata": {},
   "outputs": [],
   "source": [
    "from sklearn.preprocessing import Normalizer\n",
    "normalizer = Normalizer()"
   ]
  },
  {
   "cell_type": "code",
   "execution_count": 27,
   "metadata": {},
   "outputs": [],
   "source": [
    "X_train_norm = normalizer.transform(X_train)\n",
    "X_test_norm = normalizer.transform(X_test)"
   ]
  },
  {
   "cell_type": "code",
   "execution_count": 28,
   "metadata": {},
   "outputs": [
    {
     "data": {
      "text/plain": [
       "array([ 504.90301766,  618.934165  , 1250.79346781,  680.57848004,\n",
       "        789.01630477,  836.86533919,  694.54924712,  765.38441537,\n",
       "        988.35346236,  624.18559733, 2090.96095333,  679.47567586,\n",
       "       1094.37796043,  609.98361938,  490.99404722,  558.47604006,\n",
       "       1758.43151043,  550.59180245,  843.30139448,  841.67151693])"
      ]
     },
     "execution_count": 28,
     "metadata": {},
     "output_type": "execute_result"
    }
   ],
   "source": [
    "np.linalg.norm(X_train, axis=1)[:20]"
   ]
  },
  {
   "cell_type": "code",
   "execution_count": 30,
   "metadata": {},
   "outputs": [
    {
     "data": {
      "image/png": "[encoded data removed]",
      "text/plain": [
       "<Figure size 432x288 with 1 Axes>"
      ]
     },
     "metadata": {
      "needs_background": "light"
     },
     "output_type": "display_data"
    }
   ],
   "source": [
    "plt.scatter(X_train_norm[:,3], X_train_norm[:, 4],c='blue', label=\"traindata\")\n",
    "plt.scatter(X_test_norm[:,3], X_test_norm[:, 4],c='red', label=\"test\")\n",
    "\n",
    "plt.xlabel(data.feature_names[3] +\"(normalized)\")\n",
    "plt.ylabel(data.feature_names[4] +\"(normalized)\")\n",
    "plt.legend(loc=\"best\");"
   ]
  },
  {
   "cell_type": "markdown",
   "metadata": {},
   "source": [
    "## PCA whitening"
   ]
  },
  {
   "cell_type": "code",
   "execution_count": 31,
   "metadata": {},
   "outputs": [
    {
     "data": {
      "text/plain": [
       "(0, 0.5)"
      ]
     },
     "execution_count": 31,
     "metadata": {},
     "output_type": "execute_result"
    },
    {
     "data": {
      "image/png": "[encoded data removed]",
      "text/plain": [
       "<Figure size 432x288 with 1 Axes>"
      ]
     },
     "metadata": {
      "needs_background": "light"
     },
     "output_type": "display_data"
    }
   ],
   "source": [
    "X = data.data[:, [6,7]]\n",
    "y = data.target\n",
    "plt.scatter(X[:,0], X[:,1])\n",
    "plt.xlim(0,0.5)\n",
    "plt.ylim(0,0.5)"
   ]
  },
  {
   "cell_type": "code",
   "execution_count": 33,
   "metadata": {},
   "outputs": [
    {
     "data": {
      "text/plain": [
       "(-0.25, 0.25)"
      ]
     },
     "execution_count": 33,
     "metadata": {},
     "output_type": "execute_result"
    },
    {
     "data": {
      "image/png": "[encoded data removed]",
      "text/plain": [
       "<Figure size 432x288 with 1 Axes>"
      ]
     },
     "metadata": {
      "needs_background": "light"
     },
     "output_type": "display_data"
    }
   ],
   "source": [
    "from sklearn.decomposition import PCA\n",
    "pca = PCA()\n",
    "pca.fit(X)\n",
    "X_new = pca.transform(X)\n",
    "\n",
    "plt.scatter(X_new[:,0], X_new[:,1])\n",
    "plt.xlim(-0.1,0.4)\n",
    "plt.ylim(-0.25,0.25)"
   ]
  },
  {
   "cell_type": "code",
   "execution_count": 34,
   "metadata": {},
   "outputs": [
    {
     "data": {
      "text/plain": [
       "(array([1.46338712e-18, 3.29262101e-18]), array([0.08751603, 0.01371268]))"
      ]
     },
     "execution_count": 34,
     "metadata": {},
     "output_type": "execute_result"
    }
   ],
   "source": [
    "X_new.mean(axis=0),X_new.std(axis=0)"
   ]
  },
  {
   "cell_type": "code",
   "execution_count": 36,
   "metadata": {},
   "outputs": [],
   "source": [
    "pca = PCA(whiten=True)"
   ]
  },
  {
   "cell_type": "code",
   "execution_count": null,
   "metadata": {},
   "outputs": [],
   "source": []
  }
 ],
 "metadata": {
  "kernelspec": {
   "display_name": "Python 3",
   "language": "python",
   "name": "python3"
  },
  "language_info": {
   "codemirror_mode": {
    "name": "ipython",
    "version": 3
   },
   "file_extension": ".py",
   "mimetype": "text/x-python",
   "name": "python",
   "nbconvert_exporter": "python",
   "pygments_lexer": "ipython3",
   "version": "3.7.3"
  }
 },
 "nbformat": 4,
 "nbformat_minor": 2
}
